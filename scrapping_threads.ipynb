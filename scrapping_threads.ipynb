{
 "cells": [
  {
   "cell_type": "code",
   "execution_count": 18,
   "metadata": {},
   "outputs": [],
   "source": [
    "from ngambil import Chrome\n",
    "import pickle\n",
    "import os\n",
    "\n",
    "import nltk\n",
    "import re\n",
    "from nltk.corpus import stopwords\n",
    "from nltk.tokenize import word_tokenize\n",
    "from nltk.stem import WordNetLemmatizer"
   ]
  },
  {
   "cell_type": "code",
   "execution_count": 19,
   "metadata": {},
   "outputs": [],
   "source": [
    "find = \"Bitcoin\"\n",
    "link  = f\"https://www.threads.net/search?q={find}&serp_type=tags\""
   ]
  },
  {
   "cell_type": "code",
   "execution_count": 20,
   "metadata": {},
   "outputs": [],
   "source": [
    "scraper = Chrome.threads(link)"
   ]
  },
  {
   "cell_type": "code",
   "execution_count": 21,
   "metadata": {},
   "outputs": [
    {
     "data": {
      "text/html": [
       "<div>\n",
       "<style scoped>\n",
       "    .dataframe tbody tr th:only-of-type {\n",
       "        vertical-align: middle;\n",
       "    }\n",
       "\n",
       "    .dataframe tbody tr th {\n",
       "        vertical-align: top;\n",
       "    }\n",
       "\n",
       "    .dataframe thead th {\n",
       "        text-align: right;\n",
       "    }\n",
       "</style>\n",
       "<table border=\"1\" class=\"dataframe\">\n",
       "  <thead>\n",
       "    <tr style=\"text-align: right;\">\n",
       "      <th></th>\n",
       "      <th>username</th>\n",
       "      <th>message</th>\n",
       "      <th>datetime</th>\n",
       "    </tr>\n",
       "  </thead>\n",
       "  <tbody>\n",
       "    <tr>\n",
       "      <th>0</th>\n",
       "      <td>ixbroker</td>\n",
       "      <td>Spot Bitcoin ETFs bought 25,700 BTC this week,...</td>\n",
       "      <td>2024-06-09</td>\n",
       "    </tr>\n",
       "    <tr>\n",
       "      <th>1</th>\n",
       "      <td>whales_crypto_trading</td>\n",
       "      <td>You know what happens next. Bitcoin</td>\n",
       "      <td>2024-06-09</td>\n",
       "    </tr>\n",
       "    <tr>\n",
       "      <th>2</th>\n",
       "      <td>vascosanchez</td>\n",
       "      <td>bitcoin 5m TF 👀👀</td>\n",
       "      <td>2024-06-09</td>\n",
       "    </tr>\n",
       "    <tr>\n",
       "      <th>3</th>\n",
       "      <td>uk_sterling</td>\n",
       "      <td>Bitcoin requires a disposable income. Money pe...</td>\n",
       "      <td>2024-06-09</td>\n",
       "    </tr>\n",
       "    <tr>\n",
       "      <th>4</th>\n",
       "      <td>mentorkaya</td>\n",
       "      <td>will bitcoin continue the bull run???\\nhow is ...</td>\n",
       "      <td>2024-06-09</td>\n",
       "    </tr>\n",
       "    <tr>\n",
       "      <th>5</th>\n",
       "      <td>crypt_mike</td>\n",
       "      <td>Bitcoin Halving Expectation</td>\n",
       "      <td>2024-06-09</td>\n",
       "    </tr>\n",
       "    <tr>\n",
       "      <th>6</th>\n",
       "      <td>ateffasseeh</td>\n",
       "      <td>🚫You missed Bitcoin. \\n🚫You missed Ethereum. \\...</td>\n",
       "      <td>2024-06-09</td>\n",
       "    </tr>\n",
       "    <tr>\n",
       "      <th>7</th>\n",
       "      <td>yuppiecrypto</td>\n",
       "      <td>🖱 Testnet by Nubit</td>\n",
       "      <td>2024-06-09</td>\n",
       "    </tr>\n",
       "    <tr>\n",
       "      <th>8</th>\n",
       "      <td>ohgodkingjulius59</td>\n",
       "      <td>When they finally understand that the matrix i...</td>\n",
       "      <td>2024-06-09</td>\n",
       "    </tr>\n",
       "    <tr>\n",
       "      <th>9</th>\n",
       "      <td>vipera.llc</td>\n",
       "      <td>Understanding Bitcoin's hash rate is crucial f...</td>\n",
       "      <td>2024-06-09</td>\n",
       "    </tr>\n",
       "    <tr>\n",
       "      <th>10</th>\n",
       "      <td>trader_fawaz_inam</td>\n",
       "      <td>Once bitcoin breaks out of this consolidation ...</td>\n",
       "      <td>2024-06-09</td>\n",
       "    </tr>\n",
       "    <tr>\n",
       "      <th>11</th>\n",
       "      <td>stevenpbrumby</td>\n",
       "      <td>Bitcoin is **extremely** volatile - periods of...</td>\n",
       "      <td>2024-06-09</td>\n",
       "    </tr>\n",
       "    <tr>\n",
       "      <th>12</th>\n",
       "      <td>joseadiaz3977</td>\n",
       "      <td>LFG #BITCOIN!!! 🚀🚀🚀</td>\n",
       "      <td>2024-06-09</td>\n",
       "    </tr>\n",
       "    <tr>\n",
       "      <th>13</th>\n",
       "      <td>khjgeorge2015</td>\n",
       "      <td>Yeah except the .01 Bitcoin you agreed to work...</td>\n",
       "      <td>2024-06-09</td>\n",
       "    </tr>\n",
       "    <tr>\n",
       "      <th>14</th>\n",
       "      <td>cultiv8capital</td>\n",
       "      <td>Solana just flipped Ethereum in 7 day volume!</td>\n",
       "      <td>2024-06-09</td>\n",
       "    </tr>\n",
       "    <tr>\n",
       "      <th>15</th>\n",
       "      <td>itscryptobasic_en</td>\n",
       "      <td>With no major improvement in Bitcoin and Ether...</td>\n",
       "      <td>2024-06-09</td>\n",
       "    </tr>\n",
       "    <tr>\n",
       "      <th>16</th>\n",
       "      <td>hi_its_a_legend_</td>\n",
       "      <td>Congratulations to me I just got a\\nnew whip -...</td>\n",
       "      <td>2024-06-09</td>\n",
       "    </tr>\n",
       "    <tr>\n",
       "      <th>17</th>\n",
       "      <td>__ghodahere_</td>\n",
       "      <td>Have been hearing about bitcoin but I never tr...</td>\n",
       "      <td>2024-06-09</td>\n",
       "    </tr>\n",
       "  </tbody>\n",
       "</table>\n",
       "</div>"
      ],
      "text/plain": [
       "                 username                                            message  \\\n",
       "0                ixbroker  Spot Bitcoin ETFs bought 25,700 BTC this week,...   \n",
       "1   whales_crypto_trading                You know what happens next. Bitcoin   \n",
       "2            vascosanchez                                   bitcoin 5m TF 👀👀   \n",
       "3             uk_sterling  Bitcoin requires a disposable income. Money pe...   \n",
       "4              mentorkaya  will bitcoin continue the bull run???\\nhow is ...   \n",
       "5              crypt_mike                        Bitcoin Halving Expectation   \n",
       "6             ateffasseeh  🚫You missed Bitcoin. \\n🚫You missed Ethereum. \\...   \n",
       "7            yuppiecrypto                                 🖱 Testnet by Nubit   \n",
       "8       ohgodkingjulius59  When they finally understand that the matrix i...   \n",
       "9              vipera.llc  Understanding Bitcoin's hash rate is crucial f...   \n",
       "10      trader_fawaz_inam  Once bitcoin breaks out of this consolidation ...   \n",
       "11          stevenpbrumby  Bitcoin is **extremely** volatile - periods of...   \n",
       "12          joseadiaz3977                                LFG #BITCOIN!!! 🚀🚀🚀   \n",
       "13          khjgeorge2015  Yeah except the .01 Bitcoin you agreed to work...   \n",
       "14         cultiv8capital      Solana just flipped Ethereum in 7 day volume!   \n",
       "15      itscryptobasic_en  With no major improvement in Bitcoin and Ether...   \n",
       "16       hi_its_a_legend_  Congratulations to me I just got a\\nnew whip -...   \n",
       "17           __ghodahere_  Have been hearing about bitcoin but I never tr...   \n",
       "\n",
       "      datetime  \n",
       "0   2024-06-09  \n",
       "1   2024-06-09  \n",
       "2   2024-06-09  \n",
       "3   2024-06-09  \n",
       "4   2024-06-09  \n",
       "5   2024-06-09  \n",
       "6   2024-06-09  \n",
       "7   2024-06-09  \n",
       "8   2024-06-09  \n",
       "9   2024-06-09  \n",
       "10  2024-06-09  \n",
       "11  2024-06-09  \n",
       "12  2024-06-09  \n",
       "13  2024-06-09  \n",
       "14  2024-06-09  \n",
       "15  2024-06-09  \n",
       "16  2024-06-09  \n",
       "17  2024-06-09  "
      ]
     },
     "execution_count": 21,
     "metadata": {},
     "output_type": "execute_result"
    }
   ],
   "source": [
    "ini = scraper.loop(dataframe=True)\n",
    "ini['datetime'] = ini['datetime'].apply(lambda x: x.date())\n",
    "ini\n"
   ]
  },
  {
   "cell_type": "code",
   "execution_count": 22,
   "metadata": {},
   "outputs": [
    {
     "name": "stderr",
     "output_type": "stream",
     "text": [
      "[nltk_data] Downloading package punkt to\n",
      "[nltk_data]     C:\\Users\\untu0\\AppData\\Roaming\\nltk_data...\n",
      "[nltk_data]   Package punkt is already up-to-date!\n",
      "[nltk_data] Downloading package stopwords to\n",
      "[nltk_data]     C:\\Users\\untu0\\AppData\\Roaming\\nltk_data...\n",
      "[nltk_data]   Package stopwords is already up-to-date!\n",
      "[nltk_data] Downloading package wordnet to\n",
      "[nltk_data]     C:\\Users\\untu0\\AppData\\Roaming\\nltk_data...\n",
      "[nltk_data]   Package wordnet is already up-to-date!\n"
     ]
    }
   ],
   "source": [
    "nltk.download('punkt')\n",
    "nltk.download('stopwords')\n",
    "nltk.download('wordnet')\n",
    "\n",
    "def clean_text(text):\n",
    "    # Remove special characters and punctuation\n",
    "    text = re.sub(r'[^\\w\\s]', '', text)\n",
    "    \n",
    "    # Tokenization\n",
    "    tokens = word_tokenize(text)\n",
    "    \n",
    "    # Lowercasing\n",
    "    tokens = [token.lower() for token in tokens]\n",
    "    \n",
    "    # Remove stopwords\n",
    "    stop_words = set(stopwords.words('english'))\n",
    "    tokens = [token for token in tokens if token not in stop_words]\n",
    "    \n",
    "    # Lemmatization\n",
    "    lemmatizer = WordNetLemmatizer()\n",
    "    tokens = [lemmatizer.lemmatize(token) for token in tokens]\n",
    "    \n",
    "    # Join tokens back into text\n",
    "    cleaned_text = ' '.join(tokens)\n",
    "    \n",
    "    return cleaned_text"
   ]
  },
  {
   "cell_type": "code",
   "execution_count": 23,
   "metadata": {},
   "outputs": [],
   "source": [
    "ini['message'] = ini['message'].apply(clean_text)"
   ]
  },
  {
   "cell_type": "code",
   "execution_count": 24,
   "metadata": {},
   "outputs": [],
   "source": [
    "path = os.path.join('sentimen_analisis_model','NB.pickle')\n",
    "with open(path, 'rb') as file:\n",
    "    model = pickle.load(file)\n",
    "path = os.path.join('sentimen_analisis_model','vectorizer.pkl')\n",
    "with open(path, 'rb') as file:\n",
    "    vectorizer = pickle.load(file)"
   ]
  },
  {
   "cell_type": "code",
   "execution_count": 25,
   "metadata": {},
   "outputs": [],
   "source": [
    "x = vectorizer.transform(ini['message'])"
   ]
  },
  {
   "cell_type": "code",
   "execution_count": 26,
   "metadata": {},
   "outputs": [
    {
     "data": {
      "text/plain": [
       "array(['neutral', 'positive', 'neutral', 'positive', 'neutral', 'neutral',\n",
       "       'positive', 'positive', 'positive', 'neutral', 'positive',\n",
       "       'neutral', 'neutral', 'positive', 'neutral', 'positive',\n",
       "       'positive', 'positive'], dtype='<U8')"
      ]
     },
     "execution_count": 26,
     "metadata": {},
     "output_type": "execute_result"
    }
   ],
   "source": [
    "prediction = model.predict(x)\n",
    "prediction"
   ]
  }
 ],
 "metadata": {
  "kernelspec": {
   "display_name": "Python 3",
   "language": "python",
   "name": "python3"
  },
  "language_info": {
   "codemirror_mode": {
    "name": "ipython",
    "version": 3
   },
   "file_extension": ".py",
   "mimetype": "text/x-python",
   "name": "python",
   "nbconvert_exporter": "python",
   "pygments_lexer": "ipython3",
   "version": "3.12.3"
  }
 },
 "nbformat": 4,
 "nbformat_minor": 2
}
