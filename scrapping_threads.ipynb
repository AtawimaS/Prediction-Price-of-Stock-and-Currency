{
 "cells": [
  {
   "cell_type": "code",
   "execution_count": 31,
   "metadata": {},
   "outputs": [],
   "source": [
    "from NgambilAPI import TwitterScraper as TS\n",
    "import matplotlib.pyplot as plt\n",
    "import pickle\n",
    "import os"
   ]
  },
  {
   "cell_type": "code",
   "execution_count": 32,
   "metadata": {},
   "outputs": [],
   "source": [
    "find = \"btc-usd\""
   ]
  },
  {
   "cell_type": "code",
   "execution_count": 33,
   "metadata": {},
   "outputs": [],
   "source": [
    "scraper = TS(find, num=5)"
   ]
  },
  {
   "cell_type": "code",
   "execution_count": 34,
   "metadata": {},
   "outputs": [
    {
     "data": {
      "text/html": [
       "<div>\n",
       "<style scoped>\n",
       "    .dataframe tbody tr th:only-of-type {\n",
       "        vertical-align: middle;\n",
       "    }\n",
       "\n",
       "    .dataframe tbody tr th {\n",
       "        vertical-align: top;\n",
       "    }\n",
       "\n",
       "    .dataframe thead th {\n",
       "        text-align: right;\n",
       "    }\n",
       "</style>\n",
       "<table border=\"1\" class=\"dataframe\">\n",
       "  <thead>\n",
       "    <tr style=\"text-align: right;\">\n",
       "      <th></th>\n",
       "      <th>Position</th>\n",
       "      <th>Title</th>\n",
       "      <th>Time</th>\n",
       "      <th>Message</th>\n",
       "      <th>Highlight</th>\n",
       "      <th>link</th>\n",
       "      <th>display_link</th>\n",
       "    </tr>\n",
       "  </thead>\n",
       "  <tbody>\n",
       "    <tr>\n",
       "      <th>0</th>\n",
       "      <td>0</td>\n",
       "      <td>Meta</td>\n",
       "      <td>None</td>\n",
       "      <td>What have you imagined recently? Drop your lat...</td>\n",
       "      <td>[meta]</td>\n",
       "      <td>https://twitter.com/meta</td>\n",
       "      <td>https://twitter.com › meta</td>\n",
       "    </tr>\n",
       "    <tr>\n",
       "      <th>1</th>\n",
       "      <td>1</td>\n",
       "      <td>Meta Newsroom (@MetaNewsroom) / ...</td>\n",
       "      <td>None</td>\n",
       "      <td>All the Meta news, all in one place. Send medi...</td>\n",
       "      <td>[Meta, meta]</td>\n",
       "      <td>https://twitter.com/metanewsroom</td>\n",
       "      <td>https://twitter.com › metanewsroom</td>\n",
       "    </tr>\n",
       "    <tr>\n",
       "      <th>2</th>\n",
       "      <td>2</td>\n",
       "      <td>Facebook</td>\n",
       "      <td>None</td>\n",
       "      <td>... voice notes 🎙️, photos , videos 📽️, and GI...</td>\n",
       "      <td>[Meta]</td>\n",
       "      <td>https://twitter.com/facebook</td>\n",
       "      <td>https://twitter.com › facebook</td>\n",
       "    </tr>\n",
       "    <tr>\n",
       "      <th>3</th>\n",
       "      <td>3</td>\n",
       "      <td>AI at Meta (@AIatMeta) / X</td>\n",
       "      <td>None</td>\n",
       "      <td>NIM inference microservice, Meta Llama 3 is eq...</td>\n",
       "      <td>[Meta]</td>\n",
       "      <td>https://twitter.com/aiatmeta</td>\n",
       "      <td>https://twitter.com › aiatmeta</td>\n",
       "    </tr>\n",
       "    <tr>\n",
       "      <th>4</th>\n",
       "      <td>4</td>\n",
       "      <td>Meta Quest (@MetaQuestVR) / X</td>\n",
       "      <td>None</td>\n",
       "      <td>Expand your world with Meta Quest 3 ... THRASH...</td>\n",
       "      <td>[Meta, Meta]</td>\n",
       "      <td>https://twitter.com/metaquestvr</td>\n",
       "      <td>https://twitter.com › metaquestvr</td>\n",
       "    </tr>\n",
       "  </tbody>\n",
       "</table>\n",
       "</div>"
      ],
      "text/plain": [
       "   Position                                Title  Time  \\\n",
       "0         0                                 Meta  None   \n",
       "1         1  Meta Newsroom (@MetaNewsroom) / ...  None   \n",
       "2         2                             Facebook  None   \n",
       "3         3           AI at Meta (@AIatMeta) / X  None   \n",
       "4         4        Meta Quest (@MetaQuestVR) / X  None   \n",
       "\n",
       "                                             Message     Highlight  \\\n",
       "0  What have you imagined recently? Drop your lat...        [meta]   \n",
       "1  All the Meta news, all in one place. Send medi...  [Meta, meta]   \n",
       "2  ... voice notes 🎙️, photos , videos 📽️, and GI...        [Meta]   \n",
       "3  NIM inference microservice, Meta Llama 3 is eq...        [Meta]   \n",
       "4  Expand your world with Meta Quest 3 ... THRASH...  [Meta, Meta]   \n",
       "\n",
       "                               link                        display_link  \n",
       "0          https://twitter.com/meta          https://twitter.com › meta  \n",
       "1  https://twitter.com/metanewsroom  https://twitter.com › metanewsroom  \n",
       "2      https://twitter.com/facebook      https://twitter.com › facebook  \n",
       "3      https://twitter.com/aiatmeta      https://twitter.com › aiatmeta  \n",
       "4   https://twitter.com/metaquestvr   https://twitter.com › metaquestvr  "
      ]
     },
     "execution_count": 34,
     "metadata": {},
     "output_type": "execute_result"
    }
   ],
   "source": [
    "ini = scraper.scrape(dataframe=True)\n",
    "ini"
   ]
  },
  {
   "cell_type": "code",
   "execution_count": 35,
   "metadata": {},
   "outputs": [],
   "source": [
    "import nltk\n",
    "import re\n",
    "from nltk.corpus import stopwords\n",
    "from nltk.tokenize import word_tokenize\n",
    "from nltk.stem import WordNetLemmatizer"
   ]
  },
  {
   "cell_type": "code",
   "execution_count": 36,
   "metadata": {},
   "outputs": [
    {
     "name": "stderr",
     "output_type": "stream",
     "text": [
      "[nltk_data] Downloading package punkt to\n",
      "[nltk_data]     C:\\Users\\62838\\AppData\\Roaming\\nltk_data...\n",
      "[nltk_data]   Package punkt is already up-to-date!\n",
      "[nltk_data] Downloading package stopwords to\n",
      "[nltk_data]     C:\\Users\\62838\\AppData\\Roaming\\nltk_data...\n",
      "[nltk_data]   Package stopwords is already up-to-date!\n",
      "[nltk_data] Downloading package wordnet to\n",
      "[nltk_data]     C:\\Users\\62838\\AppData\\Roaming\\nltk_data...\n",
      "[nltk_data]   Package wordnet is already up-to-date!\n"
     ]
    }
   ],
   "source": [
    "nltk.download('punkt')\n",
    "nltk.download('stopwords')\n",
    "nltk.download('wordnet')\n",
    "\n",
    "def clean_text(text):\n",
    "    # Remove special characters and punctuation\n",
    "    text = re.sub(r'[^\\w\\s]', '', text)\n",
    "    \n",
    "    # Tokenization\n",
    "    tokens = word_tokenize(text)\n",
    "    \n",
    "    # Lowercasing\n",
    "    tokens = [token.lower() for token in tokens]\n",
    "    \n",
    "    # Remove stopwords\n",
    "    stop_words = set(stopwords.words('english'))\n",
    "    tokens = [token for token in tokens if token not in stop_words]\n",
    "    \n",
    "    # Lemmatization\n",
    "    lemmatizer = WordNetLemmatizer()\n",
    "    tokens = [lemmatizer.lemmatize(token) for token in tokens]\n",
    "    \n",
    "    # Join tokens back into text\n",
    "    cleaned_text = ' '.join(tokens)\n",
    "    \n",
    "    return cleaned_text"
   ]
  },
  {
   "cell_type": "code",
   "execution_count": 37,
   "metadata": {},
   "outputs": [],
   "source": [
    "ini['Message'] = ini['Message'].apply(clean_text)"
   ]
  },
  {
   "cell_type": "code",
   "execution_count": 38,
   "metadata": {},
   "outputs": [],
   "source": [
    "path = os.path.join('sentimen_analisis_model','NB.pickle')\n",
    "with open(path, 'rb') as file:\n",
    "    model = pickle.load(file)\n",
    "\n",
    "path = os.path.join('sentimen_analisis_model','vectorizer.pkl')\n",
    "with open(path, 'rb') as file:\n",
    "    vectorizer = pickle.load(file)\n",
    "\n",
    "path = os.path.join('Logistic_regression_model', 'LR.pickle')\n",
    "with open(path,'rb') as file:\n",
    "    LR=pickle.load(file)"
   ]
  },
  {
   "cell_type": "code",
   "execution_count": 39,
   "metadata": {},
   "outputs": [],
   "source": [
    "x = vectorizer.transform(ini['Message'])"
   ]
  },
  {
   "cell_type": "code",
   "execution_count": 40,
   "metadata": {},
   "outputs": [
    {
     "data": {
      "text/plain": [
       "array(['positive', 'neutral', 'neutral', 'neutral', 'positive'],\n",
       "      dtype='<U8')"
      ]
     },
     "execution_count": 40,
     "metadata": {},
     "output_type": "execute_result"
    }
   ],
   "source": [
    "prediction = model.predict(x)\n",
    "prediction"
   ]
  },
  {
   "cell_type": "code",
   "execution_count": 41,
   "metadata": {},
   "outputs": [
    {
     "data": {
      "text/plain": [
       "array([2, 1, 1, 1, 2])"
      ]
     },
     "execution_count": 41,
     "metadata": {},
     "output_type": "execute_result"
    }
   ],
   "source": [
    "from sklearn.preprocessing import LabelEncoder \n",
    "LE = LabelEncoder()\n",
    "LE.fit(['negative', 'neutral','positive'])\n",
    "sentiment = LE.transform(prediction)\n",
    "sentiment"
   ]
  },
  {
   "cell_type": "code",
   "execution_count": 42,
   "metadata": {},
   "outputs": [],
   "source": [
    "hitung =0\n",
    "for i in sentiment:\n",
    "    hitung = hitung+i\n",
    "sentimentnya = hitung/len(sentiment)"
   ]
  },
  {
   "cell_type": "code",
   "execution_count": 43,
   "metadata": {},
   "outputs": [
    {
     "name": "stdout",
     "output_type": "stream",
     "text": [
      "Meta Platforms, Inc.\n"
     ]
    }
   ],
   "source": [
    "import get_data\n",
    "df = get_data.stocks(find)"
   ]
  },
  {
   "cell_type": "code",
   "execution_count": 44,
   "metadata": {},
   "outputs": [],
   "source": [
    "df.head()\n",
    "data = df.reset_index()"
   ]
  },
  {
   "cell_type": "code",
   "execution_count": 45,
   "metadata": {},
   "outputs": [],
   "source": [
    "date = data['Date']\n",
    "X = data[['Close']]"
   ]
  },
  {
   "cell_type": "code",
   "execution_count": 46,
   "metadata": {},
   "outputs": [],
   "source": [
    "y_pred = LR.predict(X)"
   ]
  },
  {
   "cell_type": "code",
   "execution_count": 47,
   "metadata": {},
   "outputs": [
    {
     "data": {
      "image/png": "[encoded data removed]",
      "text/plain": [
       "<Figure size 640x480 with 1 Axes>"
      ]
     },
     "metadata": {},
     "output_type": "display_data"
    }
   ],
   "source": [
    "plt.scatter(date,X)\n",
    "plt.plot(date,y_pred, color = \"Red\")\n",
    "plt.show()"
   ]
  },
  {
   "cell_type": "code",
   "execution_count": 48,
   "metadata": {},
   "outputs": [
    {
     "name": "stdout",
     "output_type": "stream",
     "text": [
      "Current Price       : $ 499.49 \n",
      "Prediction Price    : $ 521.50 \n"
     ]
    }
   ],
   "source": [
    "real_price = float(X['Close'].iloc[-1])\n",
    "price_predict = float(y_pred[-1])\n",
    "print(f\"Current Price       : $ {real_price:.2f} \")\n",
    "print(f\"Prediction Price    : $ {price_predict:.2f} \")"
   ]
  },
  {
   "cell_type": "code",
   "execution_count": 49,
   "metadata": {},
   "outputs": [
    {
     "name": "stdout",
     "output_type": "stream",
     "text": [
      "Sentiment Analysis : netrual\n"
     ]
    }
   ],
   "source": [
    "if sentimentnya>1.5:\n",
    "    print(\"Sentiment Analysis : Naik\")\n",
    "elif sentimentnya<1.5 and sentimentnya>1:\n",
    "    print(\"Sentiment Analysis : netrual\")\n",
    "else:\n",
    "    print(\"Sentiment Analysis : Turun\")"
   ]
  }
 ],
 "metadata": {
  "kernelspec": {
   "display_name": "Python 3",
   "language": "python",
   "name": "python3"
  },
  "language_info": {
   "codemirror_mode": {
    "name": "ipython",
    "version": 3
   },
   "file_extension": ".py",
   "mimetype": "text/x-python",
   "name": "python",
   "nbconvert_exporter": "python",
   "pygments_lexer": "ipython3",
   "version": "3.12.3"
  }
 },
 "nbformat": 4,
 "nbformat_minor": 2
}
